{
  "nbformat": 4,
  "nbformat_minor": 0,
  "metadata": {
    "colab": {
      "name": "lab1.ipynb",
      "provenance": []
    },
    "kernelspec": {
      "name": "python3",
      "display_name": "Python 3"
    },
    "accelerator": "GPU"
  },
  "cells": [
    {
      "cell_type": "code",
      "metadata": {
        "colab": {
          "base_uri": "https://localhost:8080/"
        },
        "id": "uW8r6SMcd3xX",
        "outputId": "500b783b-22ea-4914-fed9-e4bff36d9039"
      },
      "source": [
        "!nvidia-smi"
      ],
      "execution_count": 1,
      "outputs": [
        {
          "output_type": "stream",
          "text": [
            "Sat Feb 13 17:35:41 2021       \n",
            "+-----------------------------------------------------------------------------+\n",
            "| NVIDIA-SMI 460.39       Driver Version: 460.32.03    CUDA Version: 11.2     |\n",
            "|-------------------------------+----------------------+----------------------+\n",
            "| GPU  Name        Persistence-M| Bus-Id        Disp.A | Volatile Uncorr. ECC |\n",
            "| Fan  Temp  Perf  Pwr:Usage/Cap|         Memory-Usage | GPU-Util  Compute M. |\n",
            "|                               |                      |               MIG M. |\n",
            "|===============================+======================+======================|\n",
            "|   0  Tesla T4            Off  | 00000000:00:04.0 Off |                    0 |\n",
            "| N/A   67C    P8    11W /  70W |      0MiB / 15109MiB |      0%      Default |\n",
            "|                               |                      |                  N/A |\n",
            "+-------------------------------+----------------------+----------------------+\n",
            "                                                                               \n",
            "+-----------------------------------------------------------------------------+\n",
            "| Processes:                                                                  |\n",
            "|  GPU   GI   CI        PID   Type   Process name                  GPU Memory |\n",
            "|        ID   ID                                                   Usage      |\n",
            "|=============================================================================|\n",
            "|  No running processes found                                                 |\n",
            "+-----------------------------------------------------------------------------+\n"
          ],
          "name": "stdout"
        }
      ]
    },
    {
      "cell_type": "code",
      "metadata": {
        "colab": {
          "base_uri": "https://localhost:8080/"
        },
        "id": "HUkqdwxieE_W",
        "outputId": "ee9194e8-6b31-4493-a2ca-2f30b11cc0fc"
      },
      "source": [
        "# FSDL Spring 2021 Setup\r\n",
        "!git clone https://github.com/full-stack-deep-learning/fsdl-text-recognizer-2021-labs\r\n",
        "%cd fsdl-text-recognizer-2021-labs\r\n",
        "!pip install pytorch_lightning\r\n",
        "%env PYTHONPATH=.:$PYTHONPATH"
      ],
      "execution_count": 2,
      "outputs": [
        {
          "output_type": "stream",
          "text": [
            "Cloning into 'fsdl-text-recognizer-2021-labs'...\n",
            "remote: Enumerating objects: 207, done.\u001b[K\n",
            "remote: Counting objects: 100% (207/207), done.\u001b[K\n",
            "remote: Compressing objects: 100% (153/153), done.\u001b[K\n",
            "remote: Total 207 (delta 76), reused 175 (delta 49), pack-reused 0\u001b[K\n",
            "Receiving objects: 100% (207/207), 2.88 MiB | 30.42 MiB/s, done.\n",
            "Resolving deltas: 100% (76/76), done.\n",
            "/content/fsdl-text-recognizer-2021-labs\n",
            "Collecting pytorch_lightning\n",
            "\u001b[?25l  Downloading https://files.pythonhosted.org/packages/e7/d4/d2751586c7961f238a6077a6dc6e4a9214445da3219f463aa44b29fe4b42/pytorch_lightning-1.1.8-py3-none-any.whl (696kB)\n",
            "\u001b[K     |████████████████████████████████| 696kB 8.2MB/s \n",
            "\u001b[?25hRequirement already satisfied: torch>=1.3 in /usr/local/lib/python3.6/dist-packages (from pytorch_lightning) (1.7.0+cu101)\n",
            "Requirement already satisfied: tensorboard>=2.2.0 in /usr/local/lib/python3.6/dist-packages (from pytorch_lightning) (2.4.1)\n",
            "Requirement already satisfied: tqdm>=4.41.0 in /usr/local/lib/python3.6/dist-packages (from pytorch_lightning) (4.41.1)\n",
            "Collecting PyYAML!=5.4.*,>=5.1\n",
            "\u001b[?25l  Downloading https://files.pythonhosted.org/packages/64/c2/b80047c7ac2478f9501676c988a5411ed5572f35d1beff9cae07d321512c/PyYAML-5.3.1.tar.gz (269kB)\n",
            "\u001b[K     |████████████████████████████████| 276kB 17.5MB/s \n",
            "\u001b[?25hCollecting future>=0.17.1\n",
            "\u001b[?25l  Downloading https://files.pythonhosted.org/packages/45/0b/38b06fd9b92dc2b68d58b75f900e97884c45bedd2ff83203d933cf5851c9/future-0.18.2.tar.gz (829kB)\n",
            "\u001b[K     |████████████████████████████████| 829kB 27.0MB/s \n",
            "\u001b[?25hRequirement already satisfied: numpy>=1.16.6 in /usr/local/lib/python3.6/dist-packages (from pytorch_lightning) (1.19.5)\n",
            "Collecting fsspec[http]>=0.8.1\n",
            "\u001b[?25l  Downloading https://files.pythonhosted.org/packages/ec/80/72ac0982cc833945fada4b76c52f0f65435ba4d53bc9317d1c70b5f7e7d5/fsspec-0.8.5-py3-none-any.whl (98kB)\n",
            "\u001b[K     |████████████████████████████████| 102kB 13.5MB/s \n",
            "\u001b[?25hRequirement already satisfied: dataclasses in /usr/local/lib/python3.6/dist-packages (from torch>=1.3->pytorch_lightning) (0.8)\n",
            "Requirement already satisfied: typing-extensions in /usr/local/lib/python3.6/dist-packages (from torch>=1.3->pytorch_lightning) (3.7.4.3)\n",
            "Requirement already satisfied: absl-py>=0.4 in /usr/local/lib/python3.6/dist-packages (from tensorboard>=2.2.0->pytorch_lightning) (0.10.0)\n",
            "Requirement already satisfied: google-auth-oauthlib<0.5,>=0.4.1 in /usr/local/lib/python3.6/dist-packages (from tensorboard>=2.2.0->pytorch_lightning) (0.4.2)\n",
            "Requirement already satisfied: wheel>=0.26; python_version >= \"3\" in /usr/local/lib/python3.6/dist-packages (from tensorboard>=2.2.0->pytorch_lightning) (0.36.2)\n",
            "Requirement already satisfied: protobuf>=3.6.0 in /usr/local/lib/python3.6/dist-packages (from tensorboard>=2.2.0->pytorch_lightning) (3.12.4)\n",
            "Requirement already satisfied: requests<3,>=2.21.0 in /usr/local/lib/python3.6/dist-packages (from tensorboard>=2.2.0->pytorch_lightning) (2.23.0)\n",
            "Requirement already satisfied: markdown>=2.6.8 in /usr/local/lib/python3.6/dist-packages (from tensorboard>=2.2.0->pytorch_lightning) (3.3.3)\n",
            "Requirement already satisfied: six>=1.10.0 in /usr/local/lib/python3.6/dist-packages (from tensorboard>=2.2.0->pytorch_lightning) (1.15.0)\n",
            "Requirement already satisfied: setuptools>=41.0.0 in /usr/local/lib/python3.6/dist-packages (from tensorboard>=2.2.0->pytorch_lightning) (53.0.0)\n",
            "Requirement already satisfied: tensorboard-plugin-wit>=1.6.0 in /usr/local/lib/python3.6/dist-packages (from tensorboard>=2.2.0->pytorch_lightning) (1.8.0)\n",
            "Requirement already satisfied: werkzeug>=0.11.15 in /usr/local/lib/python3.6/dist-packages (from tensorboard>=2.2.0->pytorch_lightning) (1.0.1)\n",
            "Requirement already satisfied: grpcio>=1.24.3 in /usr/local/lib/python3.6/dist-packages (from tensorboard>=2.2.0->pytorch_lightning) (1.32.0)\n",
            "Requirement already satisfied: google-auth<2,>=1.6.3 in /usr/local/lib/python3.6/dist-packages (from tensorboard>=2.2.0->pytorch_lightning) (1.25.0)\n",
            "Collecting aiohttp; extra == \"http\"\n",
            "\u001b[?25l  Downloading https://files.pythonhosted.org/packages/ad/e6/d4b6235d776c9b33f853e603efede5aac5a34f71ca9d3877adb30492eb4e/aiohttp-3.7.3-cp36-cp36m-manylinux2014_x86_64.whl (1.3MB)\n",
            "\u001b[K     |████████████████████████████████| 1.3MB 37.9MB/s \n",
            "\u001b[?25hRequirement already satisfied: requests-oauthlib>=0.7.0 in /usr/local/lib/python3.6/dist-packages (from google-auth-oauthlib<0.5,>=0.4.1->tensorboard>=2.2.0->pytorch_lightning) (1.3.0)\n",
            "Requirement already satisfied: urllib3!=1.25.0,!=1.25.1,<1.26,>=1.21.1 in /usr/local/lib/python3.6/dist-packages (from requests<3,>=2.21.0->tensorboard>=2.2.0->pytorch_lightning) (1.24.3)\n",
            "Requirement already satisfied: idna<3,>=2.5 in /usr/local/lib/python3.6/dist-packages (from requests<3,>=2.21.0->tensorboard>=2.2.0->pytorch_lightning) (2.10)\n",
            "Requirement already satisfied: certifi>=2017.4.17 in /usr/local/lib/python3.6/dist-packages (from requests<3,>=2.21.0->tensorboard>=2.2.0->pytorch_lightning) (2020.12.5)\n",
            "Requirement already satisfied: chardet<4,>=3.0.2 in /usr/local/lib/python3.6/dist-packages (from requests<3,>=2.21.0->tensorboard>=2.2.0->pytorch_lightning) (3.0.4)\n",
            "Requirement already satisfied: importlib-metadata; python_version < \"3.8\" in /usr/local/lib/python3.6/dist-packages (from markdown>=2.6.8->tensorboard>=2.2.0->pytorch_lightning) (3.4.0)\n",
            "Requirement already satisfied: rsa<5,>=3.1.4; python_version >= \"3.6\" in /usr/local/lib/python3.6/dist-packages (from google-auth<2,>=1.6.3->tensorboard>=2.2.0->pytorch_lightning) (4.7)\n",
            "Requirement already satisfied: pyasn1-modules>=0.2.1 in /usr/local/lib/python3.6/dist-packages (from google-auth<2,>=1.6.3->tensorboard>=2.2.0->pytorch_lightning) (0.2.8)\n",
            "Requirement already satisfied: cachetools<5.0,>=2.0.0 in /usr/local/lib/python3.6/dist-packages (from google-auth<2,>=1.6.3->tensorboard>=2.2.0->pytorch_lightning) (4.2.1)\n",
            "Collecting idna-ssl>=1.0; python_version < \"3.7\"\n",
            "  Downloading https://files.pythonhosted.org/packages/46/03/07c4894aae38b0de52b52586b24bf189bb83e4ddabfe2e2c8f2419eec6f4/idna-ssl-1.1.0.tar.gz\n",
            "Collecting multidict<7.0,>=4.5\n",
            "\u001b[?25l  Downloading https://files.pythonhosted.org/packages/a1/35/b22524d6b9cacfb4c5eff413a069bbc17c6ea628e54da5c6c989998ced5f/multidict-5.1.0-cp36-cp36m-manylinux2014_x86_64.whl (141kB)\n",
            "\u001b[K     |████████████████████████████████| 143kB 47.8MB/s \n",
            "\u001b[?25hRequirement already satisfied: attrs>=17.3.0 in /usr/local/lib/python3.6/dist-packages (from aiohttp; extra == \"http\"->fsspec[http]>=0.8.1->pytorch_lightning) (20.3.0)\n",
            "Collecting yarl<2.0,>=1.0\n",
            "\u001b[?25l  Downloading https://files.pythonhosted.org/packages/da/08/52b26b44bce7b818b410aee37c5e424c9ea420c557bca97dc2adac29b151/yarl-1.6.3-cp36-cp36m-manylinux2014_x86_64.whl (293kB)\n",
            "\u001b[K     |████████████████████████████████| 296kB 45.1MB/s \n",
            "\u001b[?25hCollecting async-timeout<4.0,>=3.0\n",
            "  Downloading https://files.pythonhosted.org/packages/e1/1e/5a4441be21b0726c4464f3f23c8b19628372f606755a9d2e46c187e65ec4/async_timeout-3.0.1-py3-none-any.whl\n",
            "Requirement already satisfied: oauthlib>=3.0.0 in /usr/local/lib/python3.6/dist-packages (from requests-oauthlib>=0.7.0->google-auth-oauthlib<0.5,>=0.4.1->tensorboard>=2.2.0->pytorch_lightning) (3.1.0)\n",
            "Requirement already satisfied: zipp>=0.5 in /usr/local/lib/python3.6/dist-packages (from importlib-metadata; python_version < \"3.8\"->markdown>=2.6.8->tensorboard>=2.2.0->pytorch_lightning) (3.4.0)\n",
            "Requirement already satisfied: pyasn1>=0.1.3 in /usr/local/lib/python3.6/dist-packages (from rsa<5,>=3.1.4; python_version >= \"3.6\"->google-auth<2,>=1.6.3->tensorboard>=2.2.0->pytorch_lightning) (0.4.8)\n",
            "Building wheels for collected packages: PyYAML, future, idna-ssl\n",
            "  Building wheel for PyYAML (setup.py) ... \u001b[?25l\u001b[?25hdone\n",
            "  Created wheel for PyYAML: filename=PyYAML-5.3.1-cp36-cp36m-linux_x86_64.whl size=44621 sha256=4de201de9a5072a9f93354920fc7b45743ea52c177939ee7641e89699c7e6229\n",
            "  Stored in directory: /root/.cache/pip/wheels/a7/c1/ea/cf5bd31012e735dc1dfea3131a2d5eae7978b251083d6247bd\n",
            "  Building wheel for future (setup.py) ... \u001b[?25l\u001b[?25hdone\n",
            "  Created wheel for future: filename=future-0.18.2-cp36-none-any.whl size=491057 sha256=ff19bfb1e5b5c97b5414077ef9fe3221af3b96164c8f1c690ccc8e20a2360a0c\n",
            "  Stored in directory: /root/.cache/pip/wheels/8b/99/a0/81daf51dcd359a9377b110a8a886b3895921802d2fc1b2397e\n",
            "  Building wheel for idna-ssl (setup.py) ... \u001b[?25l\u001b[?25hdone\n",
            "  Created wheel for idna-ssl: filename=idna_ssl-1.1.0-cp36-none-any.whl size=3163 sha256=cf56446f163b157fc8a71db2b244262af7b4487c159b26589875d1f89032a5fc\n",
            "  Stored in directory: /root/.cache/pip/wheels/d3/00/b3/32d613e19e08a739751dd6bf998cfed277728f8b2127ad4eb7\n",
            "Successfully built PyYAML future idna-ssl\n",
            "Installing collected packages: PyYAML, future, idna-ssl, multidict, yarl, async-timeout, aiohttp, fsspec, pytorch-lightning\n",
            "  Found existing installation: PyYAML 3.13\n",
            "    Uninstalling PyYAML-3.13:\n",
            "      Successfully uninstalled PyYAML-3.13\n",
            "  Found existing installation: future 0.16.0\n",
            "    Uninstalling future-0.16.0:\n",
            "      Successfully uninstalled future-0.16.0\n",
            "Successfully installed PyYAML-5.3.1 aiohttp-3.7.3 async-timeout-3.0.1 fsspec-0.8.5 future-0.18.2 idna-ssl-1.1.0 multidict-5.1.0 pytorch-lightning-1.1.8 yarl-1.6.3\n",
            "env: PYTHONPATH=.:$PYTHONPATH\n"
          ],
          "name": "stdout"
        }
      ]
    },
    {
      "cell_type": "code",
      "metadata": {
        "colab": {
          "base_uri": "https://localhost:8080/"
        },
        "id": "_FUHKWq9eOYv",
        "outputId": "504f4b2c-8833-4c40-8463-237f99a8f6d3"
      },
      "source": [
        "cd lab1"
      ],
      "execution_count": 6,
      "outputs": [
        {
          "output_type": "stream",
          "text": [
            "/content/fsdl-text-recognizer-2021-labs/lab1\n"
          ],
          "name": "stdout"
        }
      ]
    },
    {
      "cell_type": "code",
      "metadata": {
        "colab": {
          "base_uri": "https://localhost:8080/"
        },
        "id": "pSgU0B78ePiE",
        "outputId": "cb39780b-6c5b-4288-94bf-0317f3b1f34b"
      },
      "source": [
        "!python training/run_experiment.py --max_epochs=3"
      ],
      "execution_count": 8,
      "outputs": [
        {
          "output_type": "stream",
          "text": [
            "/usr/local/lib/python3.6/dist-packages/pytorch_lightning/utilities/distributed.py:50: UserWarning: You have set progress_bar_refresh_rate < 20 on Google Colab. This may crash. Consider using progress_bar_refresh_rate >= 20 in Trainer.\n",
            "  warnings.warn(*args, **kwargs)\n",
            "GPU available: True, used: False\n",
            "TPU available: None, using: 0 TPU cores\n",
            "/usr/local/lib/python3.6/dist-packages/pytorch_lightning/utilities/distributed.py:50: UserWarning: GPU available but not used. Set the --gpus flag when calling the script.\n",
            "  warnings.warn(*args, **kwargs)\n",
            "Downloading http://yann.lecun.com/exdb/mnist/train-images-idx3-ubyte.gz to /content/fsdl-text-recognizer-2021-labs/data/downloaded/MNIST/raw/train-images-idx3-ubyte.gz\n",
            "9920512it [00:02, 3832379.19it/s]                 \n",
            "Extracting /content/fsdl-text-recognizer-2021-labs/data/downloaded/MNIST/raw/train-images-idx3-ubyte.gz to /content/fsdl-text-recognizer-2021-labs/data/downloaded/MNIST/raw\n",
            "Downloading http://yann.lecun.com/exdb/mnist/train-labels-idx1-ubyte.gz to /content/fsdl-text-recognizer-2021-labs/data/downloaded/MNIST/raw/train-labels-idx1-ubyte.gz\n",
            "32768it [00:00, 126693.22it/s]\n",
            "Extracting /content/fsdl-text-recognizer-2021-labs/data/downloaded/MNIST/raw/train-labels-idx1-ubyte.gz to /content/fsdl-text-recognizer-2021-labs/data/downloaded/MNIST/raw\n",
            "Downloading http://yann.lecun.com/exdb/mnist/t10k-images-idx3-ubyte.gz to /content/fsdl-text-recognizer-2021-labs/data/downloaded/MNIST/raw/t10k-images-idx3-ubyte.gz\n",
            "1654784it [00:00, 2617734.75it/s]               \n",
            "Extracting /content/fsdl-text-recognizer-2021-labs/data/downloaded/MNIST/raw/t10k-images-idx3-ubyte.gz to /content/fsdl-text-recognizer-2021-labs/data/downloaded/MNIST/raw\n",
            "Downloading http://yann.lecun.com/exdb/mnist/t10k-labels-idx1-ubyte.gz to /content/fsdl-text-recognizer-2021-labs/data/downloaded/MNIST/raw/t10k-labels-idx1-ubyte.gz\n",
            "8192it [00:00, 45588.33it/s]\n",
            "Extracting /content/fsdl-text-recognizer-2021-labs/data/downloaded/MNIST/raw/t10k-labels-idx1-ubyte.gz to /content/fsdl-text-recognizer-2021-labs/data/downloaded/MNIST/raw\n",
            "Processing...\n",
            "/usr/local/lib/python3.6/dist-packages/torchvision/datasets/mnist.py:480: UserWarning: The given NumPy array is not writeable, and PyTorch does not support non-writeable tensors. This means you can write to the underlying (supposedly non-writeable) NumPy array using the tensor. You may want to copy the array to protect its data or make it writeable before converting it to a tensor. This type of warning will be suppressed for the rest of this program. (Triggered internally at  /pytorch/torch/csrc/utils/tensor_numpy.cpp:141.)\n",
            "  return torch.from_numpy(parsed.astype(m[2], copy=False)).view(*s)\n",
            "Done!\n",
            "2021-02-13 17:37:45.705998: I tensorflow/stream_executor/platform/default/dso_loader.cc:49] Successfully opened dynamic library libcudart.so.10.1\n",
            "\n",
            "  | Name          | Type     | Params\n",
            "-------------------------------------------\n",
            "0 | model         | MLP      | 936 K \n",
            "1 | model.dropout | Dropout  | 0     \n",
            "2 | model.fc1     | Linear   | 803 K \n",
            "3 | model.fc2     | Linear   | 131 K \n",
            "4 | model.fc3     | Linear   | 1.3 K \n",
            "5 | train_acc     | Accuracy | 0     \n",
            "6 | val_acc       | Accuracy | 0     \n",
            "7 | test_acc      | Accuracy | 0     \n",
            "-------------------------------------------\n",
            "936 K     Trainable params\n",
            "0         Non-trainable params\n",
            "936 K     Total params\n",
            "Epoch 0:  92% 431/470 [00:19<00:01, 22.32it/s, loss=0.217, v_num=0, val_loss=2.33, val_acc=0.0664]\n",
            "Validating: 0it [00:00, ?it/s]\u001b[A\n",
            "Validating:   0% 0/40 [00:00<?, ?it/s]\u001b[A\n",
            "Epoch 0:  93% 435/470 [00:19<00:01, 22.39it/s, loss=0.217, v_num=0, val_loss=2.33, val_acc=0.0664]\n",
            "Epoch 0:  93% 439/470 [00:19<00:01, 22.46it/s, loss=0.217, v_num=0, val_loss=2.33, val_acc=0.0664]\n",
            "Epoch 0:  94% 443/470 [00:19<00:01, 22.53it/s, loss=0.217, v_num=0, val_loss=2.33, val_acc=0.0664]\n",
            "Epoch 0:  95% 447/470 [00:19<00:01, 22.60it/s, loss=0.217, v_num=0, val_loss=2.33, val_acc=0.0664]\n",
            "Epoch 0:  96% 451/470 [00:19<00:00, 22.66it/s, loss=0.217, v_num=0, val_loss=2.33, val_acc=0.0664]\n",
            "Epoch 0:  97% 455/470 [00:20<00:00, 22.71it/s, loss=0.217, v_num=0, val_loss=2.33, val_acc=0.0664]\n",
            "Epoch 0:  98% 459/470 [00:20<00:00, 22.78it/s, loss=0.217, v_num=0, val_loss=2.33, val_acc=0.0664]\n",
            "Epoch 0:  99% 463/470 [00:20<00:00, 22.84it/s, loss=0.217, v_num=0, val_loss=2.33, val_acc=0.0664]\n",
            "Epoch 0: 100% 470/470 [00:20<00:00, 22.91it/s, loss=0.217, v_num=0, val_loss=0.165, val_acc=0.954]\n",
            "Epoch 1:  91% 430/470 [00:19<00:01, 21.80it/s, loss=0.168, v_num=0, val_loss=0.165, val_acc=0.954]\n",
            "Validating: 0it [00:00, ?it/s]\u001b[A\n",
            "Epoch 1:  92% 432/470 [00:19<00:01, 21.84it/s, loss=0.168, v_num=0, val_loss=0.165, val_acc=0.954]\n",
            "Epoch 1:  93% 436/470 [00:19<00:01, 21.91it/s, loss=0.168, v_num=0, val_loss=0.165, val_acc=0.954]\n",
            "Epoch 1:  94% 440/470 [00:20<00:01, 21.98it/s, loss=0.168, v_num=0, val_loss=0.165, val_acc=0.954]\n",
            "Epoch 1:  94% 444/470 [00:20<00:01, 22.05it/s, loss=0.168, v_num=0, val_loss=0.165, val_acc=0.954]\n",
            "Epoch 1:  95% 448/470 [00:20<00:00, 22.12it/s, loss=0.168, v_num=0, val_loss=0.165, val_acc=0.954]\n",
            "Epoch 1:  96% 452/470 [00:20<00:00, 22.18it/s, loss=0.168, v_num=0, val_loss=0.165, val_acc=0.954]\n",
            "Epoch 1:  97% 456/470 [00:20<00:00, 22.24it/s, loss=0.168, v_num=0, val_loss=0.165, val_acc=0.954]\n",
            "Epoch 1:  98% 460/470 [00:20<00:00, 22.31it/s, loss=0.168, v_num=0, val_loss=0.165, val_acc=0.954]\n",
            "Epoch 1:  99% 464/470 [00:20<00:00, 22.37it/s, loss=0.168, v_num=0, val_loss=0.165, val_acc=0.954]\n",
            "Epoch 1: 100% 470/470 [00:20<00:00, 22.43it/s, loss=0.168, v_num=0, val_loss=0.121, val_acc=0.968]\n",
            "Epoch 2:  91% 430/470 [00:19<00:01, 21.63it/s, loss=0.137, v_num=0, val_loss=0.121, val_acc=0.968]\n",
            "Validating: 0it [00:00, ?it/s]\u001b[A\n",
            "Epoch 2:  92% 432/470 [00:19<00:01, 21.67it/s, loss=0.137, v_num=0, val_loss=0.121, val_acc=0.968]\n",
            "Epoch 2:  93% 436/470 [00:20<00:01, 21.73it/s, loss=0.137, v_num=0, val_loss=0.121, val_acc=0.968]\n",
            "Epoch 2:  94% 440/470 [00:20<00:01, 21.80it/s, loss=0.137, v_num=0, val_loss=0.121, val_acc=0.968]\n",
            "Epoch 2:  94% 444/470 [00:20<00:01, 21.87it/s, loss=0.137, v_num=0, val_loss=0.121, val_acc=0.968]\n",
            "Epoch 2:  95% 448/470 [00:20<00:01, 21.94it/s, loss=0.137, v_num=0, val_loss=0.121, val_acc=0.968]\n",
            "Epoch 2:  96% 452/470 [00:20<00:00, 22.01it/s, loss=0.137, v_num=0, val_loss=0.121, val_acc=0.968]\n",
            "Epoch 2:  97% 456/470 [00:20<00:00, 22.07it/s, loss=0.137, v_num=0, val_loss=0.121, val_acc=0.968]\n",
            "Epoch 2:  98% 460/470 [00:20<00:00, 22.13it/s, loss=0.137, v_num=0, val_loss=0.121, val_acc=0.968]\n",
            "Epoch 2:  99% 464/470 [00:20<00:00, 22.19it/s, loss=0.137, v_num=0, val_loss=0.121, val_acc=0.968]\n",
            "Epoch 2: 100% 468/470 [00:21<00:00, 22.24it/s, loss=0.137, v_num=0, val_loss=0.121, val_acc=0.968]\n",
            "Epoch 2: 100% 470/470 [00:21<00:00, 22.24it/s, loss=0.137, v_num=0, val_loss=0.1, val_acc=0.972]  \n",
            "Epoch 2: 100% 470/470 [00:21<00:00, 22.23it/s, loss=0.137, v_num=0, val_loss=0.1, val_acc=0.972]\n",
            "Testing: 100% 79/79 [00:02<00:00, 34.06it/s]\n",
            "--------------------------------------------------------------------------------\n",
            "DATALOADER:0 TEST RESULTS\n",
            "{'test_acc': 0.9724000096321106}\n",
            "--------------------------------------------------------------------------------\n"
          ],
          "name": "stdout"
        }
      ]
    }
  ]
}